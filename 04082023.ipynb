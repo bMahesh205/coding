{
  "nbformat": 4,
  "nbformat_minor": 0,
  "metadata": {
    "colab": {
      "provenance": [],
      "authorship_tag": "ABX9TyMAnLn7iMOo4l+kgJBX/SZs"
    },
    "kernelspec": {
      "name": "python3",
      "display_name": "Python 3"
    },
    "language_info": {
      "name": "python"
    }
  },
  "cells": [
    {
      "cell_type": "code",
      "source": [
        "n=int(input())\n",
        "if n%2==0:\n",
        "  if n>6 and n<=20:\n",
        "    print(\"weird\")\n",
        "  else:\n",
        "    print(\"not weird\")\n",
        "else:\n",
        "  print(\"not weird\")"
      ],
      "metadata": {
        "colab": {
          "base_uri": "https://localhost:8080/"
        },
        "id": "R5B1HkiGv7Rd",
        "outputId": "b44249b8-bac8-4743-adf0-f34deb71d7d9"
      },
      "execution_count": 5,
      "outputs": [
        {
          "output_type": "stream",
          "name": "stdout",
          "text": [
            "15\n",
            "not weird\n"
          ]
        }
      ]
    },
    {
      "cell_type": "code",
      "execution_count": 6,
      "metadata": {
        "colab": {
          "base_uri": "https://localhost:8080/"
        },
        "id": "Scyn_Mu3VSkR",
        "outputId": "f8a4fdf6-5257-4f15-d245-2d2185aaf002"
      },
      "outputs": [
        {
          "output_type": "stream",
          "name": "stdout",
          "text": [
            "[1, 2, 0, 4, 5]\n"
          ]
        }
      ],
      "source": [
        "num=[1,2,4,5,0,]\n",
        "n1=[]\n",
        "n2=[]\n",
        "for i in num:\n",
        "  if i==0:\n",
        "    n1.append(i)\n",
        "  else:\n",
        "    n2.append(i)\n",
        "k=int(len(n2)/2)\n",
        "p=n2[:k]\n",
        "p1=n2[k:]\n",
        "print(p+n1+p1)"
      ]
    }
  ]
}