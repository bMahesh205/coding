{
  "nbformat": 4,
  "nbformat_minor": 0,
  "metadata": {
    "colab": {
      "provenance": [],
      "authorship_tag": "ABX9TyOzlgEnz+pdyy7QmGDeGrMx"
    },
    "kernelspec": {
      "name": "python3",
      "display_name": "Python 3"
    },
    "language_info": {
      "name": "python"
    }
  },
  "cells": [
    {
      "cell_type": "code",
      "source": [
        "def lonelynumber(n):\n",
        "  s=[]\n",
        "  for i in n:\n",
        "    v=n.count(i)\n",
        "    if v<2:\n",
        "      s.append(i)\n",
        "    print(s)\n",
        "lonelynumber([1,2,2,4,5,4,1])"
      ],
      "metadata": {
        "colab": {
          "base_uri": "https://localhost:8080/"
        },
        "id": "fijIbOg8AhNz",
        "outputId": "2562ffec-550d-41e8-90dd-5730dfd53aa8"
      },
      "execution_count": null,
      "outputs": [
        {
          "output_type": "stream",
          "name": "stdout",
          "text": [
            "[]\n",
            "[]\n",
            "[]\n",
            "[]\n",
            "[5]\n",
            "[5]\n",
            "[5]\n"
          ]
        }
      ]
    },
    {
      "cell_type": "code",
      "execution_count": null,
      "metadata": {
        "colab": {
          "base_uri": "https://localhost:8080/"
        },
        "id": "PAhS_9e-AezP",
        "outputId": "f5d92678-2a8a-4d86-f50a-f800c6173564"
      },
      "outputs": [
        {
          "output_type": "stream",
          "name": "stdout",
          "text": [
            "3462\n"
          ]
        }
      ],
      "source": [
        "n=432667\n",
        "l=[]\n",
        "n=str(n)\n",
        "for i in n:\n",
        "    l.append(int(i))\n",
        "p1=[]\n",
        "p2=[]\n",
        "for i in l:\n",
        "    if l.index(i)%2==0:\n",
        "      p1.append(i)\n",
        "    else:\n",
        "      p2.append(i)\n",
        "k=[]\n",
        "for i in range(0,len(p1)):\n",
        "    k.append(p2[i])\n",
        "    k.append(p1[i])\n",
        "s=\"\"\n",
        "for i in k:\n",
        "    s+=str(i)\n",
        "print(int(s))"
      ]
    }
  ]
}