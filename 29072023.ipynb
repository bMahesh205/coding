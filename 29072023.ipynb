{
  "nbformat": 4,
  "nbformat_minor": 0,
  "metadata": {
    "colab": {
      "provenance": [],
      "authorship_tag": "ABX9TyPokdRXtNp0ialeidAKgAPp"
    },
    "kernelspec": {
      "name": "python3",
      "display_name": "Python 3"
    },
    "language_info": {
      "name": "python"
    }
  },
  "cells": [
    {
      "cell_type": "code",
      "execution_count": null,
      "metadata": {
        "id": "2zhi2l7tU02f"
      },
      "outputs": [],
      "source": [
        "no=int(input(\"enter a number\"))\n",
        "while no!=1:\n",
        "  print(no)\n",
        "if no%2==0:\n",
        "  no=no//2\n",
        "else:\n",
        "  no=no*3+1\n",
        "  -----------------------------------------------\n",
        "  n=int(input(\"enter range\"))\n",
        "n1=0\n",
        "n2=1\n",
        "print(n1,n2,end=\" \")\n",
        "for i in range(2,n):\n",
        "  n3=n1+n2\n",
        "  n1=n2\n",
        "  n2=n3\n",
        "  print(n3,end=\" \")\n",
        "  -----------------------------------------------\n",
        "  m=int(input(\"enter month number: \"))\n",
        "if(m==2):\n",
        "  print(\"28days/29days\")\n",
        "elif m in(1,3,5,7,8,10,12):\n",
        "  print(\"31days\")\n",
        "else:\n",
        "  print(\"30 days\")"
      ]
    }
  ]
}