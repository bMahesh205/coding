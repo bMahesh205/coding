{
  "nbformat": 4,
  "nbformat_minor": 0,
  "metadata": {
    "colab": {
      "provenance": [],
      "authorship_tag": "ABX9TyPuDZ0khfaB4a1Vd0AB1sGi"
    },
    "kernelspec": {
      "name": "python3",
      "display_name": "Python 3"
    },
    "language_info": {
      "name": "python"
    }
  },
  "cells": [
    {
      "cell_type": "code",
      "execution_count": null,
      "metadata": {
        "id": "2zhi2l7tU02f"
      },
      "outputs": [],
      "source": [
        "no=int(input(\"enter a number\"))\n",
        "while no!=1:\n",
        "  print(no)\n",
        "if no%2==0:\n",
        "  no=no//2\n",
        "else:\n",
        "  no=no*3+1"
      ]
    }
  ]
}