{
  "nbformat": 4,
  "nbformat_minor": 0,
  "metadata": {
    "colab": {
      "provenance": [],
      "authorship_tag": "ABX9TyN8cn94gE0hbsICwajDxSwe"
    },
    "kernelspec": {
      "name": "python3",
      "display_name": "Python 3"
    },
    "language_info": {
      "name": "python"
    }
  },
  "cells": [
    {
      "cell_type": "code",
      "execution_count": 1,
      "metadata": {
        "colab": {
          "base_uri": "https://localhost:8080/"
        },
        "id": "H9Q3_SlLrJ9c",
        "outputId": "9ecaa40b-c3e5-4ae6-c095-dcf4377e871a"
      },
      "outputs": [
        {
          "output_type": "stream",
          "name": "stdout",
          "text": [
            "enter upto square no :5\n",
            "0\n",
            "1\n",
            "4\n",
            "9\n",
            "16\n",
            "25\n"
          ]
        }
      ],
      "source": [
        "M=int(input(\"enter upto square no :\"))\n",
        "for i in range(M+1):\n",
        "  print(i**2)"
      ]
    },
    {
      "cell_type": "code",
      "source": [
        "m=\"madhara uchiha the ghost\".split()\n",
        "n=\" \"\n",
        "for i in m[::-1]:\n",
        "  n+=i+\" \"\n",
        "st=n[:-1]\n",
        "print(st)"
      ],
      "metadata": {
        "colab": {
          "base_uri": "https://localhost:8080/"
        },
        "id": "g-soDMylrxRV",
        "outputId": "c364b82c-2f02-4202-c1aa-dfacdcc07533"
      },
      "execution_count": 3,
      "outputs": [
        {
          "output_type": "stream",
          "name": "stdout",
          "text": [
            " ghost the uchiha madhara\n"
          ]
        }
      ]
    }
  ]
}